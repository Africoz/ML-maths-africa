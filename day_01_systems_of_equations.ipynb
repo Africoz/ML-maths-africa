{
  "nbformat": 4,
  "nbformat_minor": 0,
  "metadata": {
    "colab": {
      "provenance": [],
      "authorship_tag": "ABX9TyNqHkJTOccsbvplKKIdTXOA",
      "include_colab_link": true
    },
    "kernelspec": {
      "name": "python3",
      "display_name": "Python 3"
    },
    "language_info": {
      "name": "python"
    }
  },
  "cells": [
    {
      "cell_type": "markdown",
      "metadata": {
        "id": "view-in-github",
        "colab_type": "text"
      },
      "source": [
        "<a href=\"https://colab.research.google.com/github/Africoz/ML-maths-africa/blob/main/day_01_systems_of_equations.ipynb\" target=\"_parent\"><img src=\"https://colab.research.google.com/assets/colab-badge.svg\" alt=\"Open In Colab\"/></a>"
      ]
    },
    {
      "cell_type": "code",
      "source": [
        "import numpy as np\n",
        "\n",
        "# New corrected system\n",
        "A = np.array([\n",
        "    [1, 1, 1],\n",
        "    [2, 1, 0],\n",
        "    [1, 0, 2]\n",
        "])\n",
        "b = np.array([150, 200, 180])\n",
        "\n",
        "# Solve Ax = b\n",
        "prices = np.linalg.solve(A, b)\n",
        "\n",
        "# Results\n",
        "rice_price, chicken_price, drink_price = prices\n",
        "print(f\"Rice Price: ₹{rice_price:.2f}\")\n",
        "print(f\"Chicken Price: ₹{chicken_price:.2f}\")\n",
        "print(f\"Drink Price: ₹{drink_price:.2f}\")\n",
        "\n",
        "# Verification\n",
        "recomputed_b = A @ prices\n",
        "print(\"\\nVerification (Ax):\", recomputed_b)\n",
        "print(\"Original (b):\", b)\n",
        "print(\"Error:\", np.abs(recomputed_b - b))\n"
      ],
      "metadata": {
        "id": "xGH2UKUYzFR2",
        "outputId": "d9affdf6-5bca-4678-a77b-bc8168a75a18",
        "colab": {
          "base_uri": "https://localhost:8080/"
        }
      },
      "execution_count": 4,
      "outputs": [
        {
          "output_type": "stream",
          "name": "stdout",
          "text": [
            "Rice Price: ₹93.33\n",
            "Chicken Price: ₹13.33\n",
            "Drink Price: ₹43.33\n",
            "\n",
            "Verification (Ax): [150. 200. 180.]\n",
            "Original (b): [150 200 180]\n",
            "Error: [0. 0. 0.]\n"
          ]
        }
      ]
    }
  ]
}
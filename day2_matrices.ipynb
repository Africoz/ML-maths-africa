{
  "nbformat": 4,
  "nbformat_minor": 0,
  "metadata": {
    "colab": {
      "provenance": [],
      "authorship_tag": "ABX9TyNLNznltkBTkE+gfLesRULD",
      "include_colab_link": true
    },
    "kernelspec": {
      "name": "python3",
      "display_name": "Python 3"
    },
    "language_info": {
      "name": "python"
    }
  },
  "cells": [
    {
      "cell_type": "markdown",
      "metadata": {
        "id": "view-in-github",
        "colab_type": "text"
      },
      "source": [
        "<a href=\"https://colab.research.google.com/github/Africoz/ML-maths-africa/blob/main/day2_matrices.ipynb\" target=\"_parent\"><img src=\"https://colab.research.google.com/assets/colab-badge.svg\" alt=\"Open In Colab\"/></a>"
      ]
    },
    {
      "cell_type": "code",
      "source": [
        "# Day 2 - Matrices (Google Colab Ready Code)\n",
        "\n",
        "import numpy as np\n",
        "import matplotlib.pyplot as plt\n",
        "\n",
        "# Example 1 - Transport Matrix (Town Infrastructure Grid)\n",
        "\n",
        "# Original transport cost matrix (in minutes)\n",
        "transport_cost = np.array([\n",
        "    [0, 15, 30, 45],\n",
        "    [15, 0, 20, 35],\n",
        "    [30, 20, 0, 25],\n",
        "    [45, 35, 25, 0]\n",
        "])\n",
        "\n",
        "# Accessing time from School to Market\n",
        "print(f\"Time from School to Market: {transport_cost[1, 2]} minutes\")\n",
        "\n",
        "# Adding a new town (Clinic)\n",
        "new_town = np.array([50, 40, 30, 20])\n",
        "transport_cost = np.vstack([transport_cost, new_town])\n",
        "new_col = np.append(new_town, 0).reshape(-1, 1)\n",
        "transport_cost = np.hstack([transport_cost, new_col])\n",
        "\n",
        "print(\"\\nUpdated Transport Cost Matrix:\")\n",
        "print(transport_cost)\n",
        "\n",
        "# Transpose - reverse directions\n",
        "print(\"\\nTransposed Matrix (Reverse Directions):\")\n",
        "print(transport_cost.T)\n",
        "\n",
        "# Adding roadwork delays (random 0-5 min delays)\n",
        "extra_roadwork = np.random.randint(0, 5, transport_cost.shape)\n",
        "combined_cost = transport_cost + extra_roadwork\n",
        "\n",
        "print(\"\\nAfter Road Repairs (Extra Time Added):\")\n",
        "print(combined_cost)\n",
        "\n",
        "# Traffic intensity adjustment (each row is multiplied)\n",
        "traffic_intensity = np.array([1, 1.2, 1.5, 0.8, 1.1])\n",
        "adjusted_cost = transport_cost * traffic_intensity.reshape(-1, 1)\n",
        "\n",
        "print(\"\\nTraffic-Adjusted Cost Matrix:\")\n",
        "print(adjusted_cost)\n",
        "\n",
        "# Example 2 - Matrix as Image (5x5 Grayscale Image)\n",
        "\n",
        "# Simple 5x5 grayscale matrix (pixel brightness 0-255)\n",
        "image = np.array([\n",
        "    [255, 100, 50, 100, 255],\n",
        "    [100, 50, 0, 50, 100],\n",
        "    [50, 0, 0, 0, 50],\n",
        "    [100, 50, 0, 50, 100],\n",
        "    [255, 100, 50, 100, 255]\n",
        "])\n",
        "\n",
        "# Visualize as image\n",
        "plt.imshow(image, cmap='gray')\n",
        "plt.title(\"Simple Town Satellite Image (5x5)\")\n",
        "plt.colorbar(label=\"Pixel Intensity\")\n",
        "plt.show()\n"
      ],
      "metadata": {
        "colab": {
          "base_uri": "https://localhost:8080/",
          "height": 955
        },
        "id": "Mk6oxFWa-Qrs",
        "outputId": "32702c63-0270-4ba0-a1b6-09273614ba19"
      },
      "execution_count": 2,
      "outputs": [
        {
          "output_type": "stream",
          "name": "stdout",
          "text": [
            "Time from School to Market: 20 minutes\n",
            "\n",
            "Updated Transport Cost Matrix:\n",
            "[[ 0 15 30 45 50]\n",
            " [15  0 20 35 40]\n",
            " [30 20  0 25 30]\n",
            " [45 35 25  0 20]\n",
            " [50 40 30 20  0]]\n",
            "\n",
            "Transposed Matrix (Reverse Directions):\n",
            "[[ 0 15 30 45 50]\n",
            " [15  0 20 35 40]\n",
            " [30 20  0 25 30]\n",
            " [45 35 25  0 20]\n",
            " [50 40 30 20  0]]\n",
            "\n",
            "After Road Repairs (Extra Time Added):\n",
            "[[ 4 15 33 45 53]\n",
            " [16  4 23 38 44]\n",
            " [32 22  3 28 30]\n",
            " [45 36 29  4 22]\n",
            " [52 40 32 21  1]]\n",
            "\n",
            "Traffic-Adjusted Cost Matrix:\n",
            "[[ 0.  15.  30.  45.  50. ]\n",
            " [18.   0.  24.  42.  48. ]\n",
            " [45.  30.   0.  37.5 45. ]\n",
            " [36.  28.  20.   0.  16. ]\n",
            " [55.  44.  33.  22.   0. ]]\n"
          ]
        },
        {
          "output_type": "display_data",
          "data": {
            "text/plain": [
              "<Figure size 640x480 with 2 Axes>"
            ],
            "image/png": "[encoded data removed]"
          },
          "metadata": {}
        }
      ]
    }
  ]
}